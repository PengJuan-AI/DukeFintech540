{
 "cells": [
  {
   "cell_type": "markdown",
   "metadata": {},
   "source": [
    "# Feature Engineering\n",
    "\n",
    "To capture the seasonal pattern and other calendar effects on stock prices, we created several indicator features for each fifteen-minute interval:\n",
    "\n",
    "- Months of the year (12 one-hot variables)\n",
    "- Day of the month (31 one-hot variables)\n",
    "- Day of the Week (5 one-hot variables for Monday to Friday)\n",
    "- Hours of the day (6 one-hot variables for hours 9:00 to 16:00)\n",
    "- Minute Segment of the hour ( 4 one-hot variables for minute segment between 0,15,30, and 45)\n",
    "- Whether the time period is on Monday morning (1 indicator variable)\n",
    "-  Whether the time period is on Friday afternoon (1 indicator variable)\n",
    "- Whether the time period is in a “Pre-holiday” after-noon (1 indicator variable)\n",
    "- Whether the time period is in a “post-holiday” morning (1 indicator variable)\n"
   ]
  },
  {
   "cell_type": "code",
   "execution_count": 3,
   "metadata": {},
   "outputs": [
    {
     "name": "stdout",
     "output_type": "stream",
     "text": [
      "Collecting holidays\n",
      "  Downloading holidays-0.36-py3-none-any.whl (822 kB)\n",
      "\u001b[2K     \u001b[90m━━━━━━━━━━━━━━━━━━━━━━━━━━━━━━━━━━━━━━\u001b[0m \u001b[32m822.9/822.9 KB\u001b[0m \u001b[31m10.2 MB/s\u001b[0m eta \u001b[36m0:00:00\u001b[0m00:01\u001b[0m00:01\u001b[0m\n",
      "\u001b[?25hRequirement already satisfied: python-dateutil in /opt/conda/lib/python3.8/site-packages (from holidays) (2.8.2)\n",
      "Requirement already satisfied: six>=1.5 in /opt/conda/lib/python3.8/site-packages (from python-dateutil->holidays) (1.15.0)\n",
      "Installing collected packages: holidays\n",
      "Successfully installed holidays-0.36\n"
     ]
    }
   ],
   "source": [
    "! pip install holidays"
   ]
  },
  {
   "cell_type": "code",
   "execution_count": 4,
   "metadata": {},
   "outputs": [],
   "source": [
    "import pandas as pd\n",
    "import os\n",
    "import holidays"
   ]
  },
  {
   "cell_type": "code",
   "execution_count": 5,
   "metadata": {},
   "outputs": [],
   "source": [
    "def merge_data(directory, column, index):\n",
    "    csv_files = [f for f in os.listdir(directory) if f.endswith('.csv')]\n",
    "\n",
    "    merged_data = pd.DataFrame()\n",
    "\n",
    "    for file in csv_files:\n",
    "        df = pd.read_csv(os.path.join(directory, file), index_col=index)\n",
    "        \n",
    "        df.index = pd.to_datetime(df.index)\n",
    "\n",
    "        column_name = file.replace('.csv', '')\n",
    "\n",
    "        df.rename(columns={column: column_name}, inplace=True)\n",
    "        \n",
    "        if merged_data.empty:\n",
    "            merged_data = df[[column_name]]\n",
    "        else:\n",
    "            merged_data = merged_data.join(df[[column_name]], how='outer')\n",
    "\n",
    "    return merged_data"
   ]
  },
  {
   "cell_type": "code",
   "execution_count": 3,
   "metadata": {},
   "outputs": [],
   "source": [
    "features_dir = './data/features'\n",
    "\n",
    "features = merge_data(features_dir, '1. open', 'timestamp')\n",
    "\n",
    "features.to_csv('./data/features.csv')"
   ]
  },
  {
   "cell_type": "code",
   "execution_count": 6,
   "metadata": {},
   "outputs": [],
   "source": [
    "targets_dir = './data/targets'\n",
    "\n",
    "targets = merge_data(targets_dir, '1. open', 'timestamp')\n",
    "\n",
    "targets.to_csv('./data/targets.csv')"
   ]
  },
  {
   "cell_type": "code",
   "execution_count": 5,
   "metadata": {},
   "outputs": [],
   "source": [
    "\n",
    "df = pd.read_csv('./data/features.csv', usecols=['timestamp'])\n",
    "df['timestamp'] = pd.to_datetime(df['timestamp'])\n",
    "\n",
    "\n",
    "# Get the US holidays\n",
    "us_holidays = holidays.UnitedStates(years=[2020, 2021, 2022, 2023])\n",
    "\n",
    "# Updated function to determine if it's a pre-holiday afternoon\n",
    "def is_pre_holiday(timestamp, holidays):\n",
    "    # Check if the date is in the provided holidays set\n",
    "    return timestamp.normalize() in holidays and timestamp.hour >= 12\n",
    "\n",
    "# Updated function to determine if it's a post-holiday morning\n",
    "def is_post_holiday(timestamp, holidays):\n",
    "    # Check if the date is the day after a holiday\n",
    "    day_after = timestamp.normalize() - pd.Timedelta(days=1)\n",
    "    return day_after in holidays and timestamp.hour < 12\n",
    "\n",
    "\n",
    "\n",
    "# Create the one-hot encoded features\n",
    "df['month'] = df['timestamp'].dt.month\n",
    "df['day_of_month'] = df['timestamp'].dt.day\n",
    "df['day_of_week'] = df['timestamp'].dt.dayofweek\n",
    "df['hour'] = df['timestamp'].dt.hour\n",
    "df['minute_segment'] = df['timestamp'].dt.minute // 15\n",
    "df['monday_morning'] = ((df['timestamp'].dt.dayofweek == 0) & (df['timestamp'].dt.hour < 12)).astype(int)\n",
    "df['friday_afternoon'] = ((df['timestamp'].dt.dayofweek == 4) & (df['timestamp'].dt.hour >= 12)).astype(int)\n",
    "df['pre_holiday_afternoon'] = df['timestamp'].apply(lambda x: is_pre_holiday(x, us_holidays)).astype(int)\n",
    "df['post_holiday_morning'] = df['timestamp'].apply(lambda x: is_post_holiday(x, us_holidays)).astype(int)\n",
    "\n",
    "\n",
    "# Now get dummies for the categorical columns\n",
    "df = pd.get_dummies(df, columns=['month', 'day_of_month', 'day_of_week', 'hour', 'minute_segment'], drop_first=False).set_index('timestamp')\n"
   ]
  },
  {
   "cell_type": "code",
   "execution_count": 6,
   "metadata": {},
   "outputs": [],
   "source": [
    "features = features.join(df, how='outer')\n",
    "\n",
    "features.to_csv('./data/features_preprocessed.csv')"
   ]
  }
 ],
 "metadata": {
  "kernelspec": {
   "display_name": "Python 3 (ipykernel)",
   "language": "python",
   "name": "python3"
  },
  "language_info": {
   "codemirror_mode": {
    "name": "ipython",
    "version": 3
   },
   "file_extension": ".py",
   "mimetype": "text/x-python",
   "name": "python",
   "nbconvert_exporter": "python",
   "pygments_lexer": "ipython3",
   "version": "3.8.12"
  }
 },
 "nbformat": 4,
 "nbformat_minor": 4
}
