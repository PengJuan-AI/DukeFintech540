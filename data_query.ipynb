{
 "cells": [
  {
   "cell_type": "markdown",
   "metadata": {},
   "source": [
    "# Query Target and Feature Data\n",
    "\n",
    "> Using **Alpha Vantage** API to query all data and features needed.\n",
    "\n",
    "Except for the target stock, we include following features:\n",
    "- Value of the Dow Jones Index\n",
    "- Value of the Nasdaq Index\n",
    "- Value of the S&P 500 Index\n",
    "- Price of the two-year Treasury bond\n",
    "- Price of the five-year Treasury bond\n",
    "- Price of the ten-year Treasury bond\n",
    "- Price of gold\n",
    "- Price of crude oil\n"
   ]
  },
  {
   "cell_type": "code",
   "execution_count": 1,
   "metadata": {},
   "outputs": [],
   "source": [
    "import requests\n",
    "from datetime import datetime, timedelta\n",
    "import pandas as pd\n",
    "import os\n",
    "\n",
    "api_key = \"GZTM1C89JRLUEWI4\""
   ]
  },
  {
   "cell_type": "code",
   "execution_count": 2,
   "metadata": {},
   "outputs": [],
   "source": [
    "def get_15min_stock_data(symbol, month):\n",
    "    \"\"\"\n",
    "    Retrieves 15min historical price data for a given stock symbol from Alpha Vantage.\n",
    "    \"\"\"\n",
    "    \n",
    "    url = f'https://www.alphavantage.co/query?function=TIME_SERIES_INTRADAY&symbol={symbol}&interval=15min&month={month}&outputsize=full&apikey={api_key}&extended_hours=false'\n",
    "    response = requests.get(url)\n",
    "    if response.status_code != 200:\n",
    "        raise Exception(\"Failed to retrieve data from Alpha Vantage\")\n",
    "    \n",
    "    price_data = response.json()['Time Series (15min)']\n",
    "\n",
    "    return price_data"
   ]
  },
  {
   "cell_type": "code",
   "execution_count": 3,
   "metadata": {},
   "outputs": [],
   "source": [
    "def get_historical_data_for_range(symbol, start_date, end_date):\n",
    "    start = datetime.strptime(start_date, \"%Y-%m-%d\")\n",
    "    end = datetime.strptime(end_date, \"%Y-%m-%d\")\n",
    "\n",
    "    all_data_frames = []  # List to store individual DataFrames\n",
    "\n",
    "    while start <= end:\n",
    "        month = start.strftime(\"%Y-%m\")\n",
    "        price_data = get_15min_stock_data(symbol, month)\n",
    "\n",
    "        # Create a DataFrame for this month\n",
    "        df = pd.DataFrame(price_data).transpose()\n",
    "        df['timestamp'] = df.index  # Store the timestamp in a column\n",
    "        df['month'] = month  # Store the month in a column\n",
    "\n",
    "        all_data_frames.append(df)\n",
    "        start = start + timedelta(days=31)  # Increment to the next month (approximately)\n",
    "\n",
    "    # Combine all DataFrames into one\n",
    "    combined_df = pd.concat(all_data_frames)\n",
    "    combined_df = combined_df.sort_values('timestamp')\n",
    "    \n",
    "    return combined_df"
   ]
  },
  {
   "cell_type": "code",
   "execution_count": 4,
   "metadata": {},
   "outputs": [],
   "source": [
    "def get_and_save_symbol_data(symbol, start_date, end_date, directory):\n",
    "    data = get_historical_data_for_range(symbol, start_date, end_date)\n",
    "    if not os.path.exists(directory):\n",
    "        os.makedirs(directory)\n",
    "    file_path = os.path.join(directory, f'{symbol}.csv')\n",
    "    data.to_csv(file_path, index=False)\n",
    "    print(f\"Data for {symbol} saved to {file_path}\")"
   ]
  },
  {
   "cell_type": "markdown",
   "metadata": {},
   "source": [
    "# Download Data\n",
    "\n",
    "1. Define target stocks in `targets`, and select `start_date` and `end_date`.\n",
    "2. Then download data in to `feature_path` and `targets_path` separately."
   ]
  },
  {
   "cell_type": "code",
   "execution_count": 5,
   "metadata": {},
   "outputs": [],
   "source": [
    "features = ['DIA', 'QQQ', 'IVV', 'SHY', 'IEI', 'IEF', 'GLD', 'USO']\n",
    "targets = [\"NVDA\", \"AAPL\", \"AMGN\", \"CSCO\", \"INTC\", \"MSFT\", \"HON\", \"WBA\", \"AXP\", \"BA\", \"CAT\", \"CRM\", \"CVX\", \"DIS\", \"DOW\", \"GS\", \"HD\", \"IBM\", \"JNJ\", \"JPM\", \"KO\", \"MCD\", \"MMM\", \"MRK\", \"NKE\",\"PG\", \"TRV\", \"UNH\", \"V\", \"VZ\", \"WMT\"]\n",
    "start_date = '2020-06-01'\n",
    "end_date = '2023-06-01'\n",
    "\n",
    "feature_path = './data/features/'\n",
    "targets_path = './data/targets/'"
   ]
  },
  {
   "cell_type": "code",
   "execution_count": null,
   "metadata": {},
   "outputs": [],
   "source": [
    "for symbol in features:\n",
    "    get_and_save_symbol_data(symbol, start_date, end_date, feature_path)"
   ]
  },
  {
   "cell_type": "code",
   "execution_count": 6,
   "metadata": {},
   "outputs": [
    {
     "name": "stdout",
     "output_type": "stream",
     "text": [
      "Data for NVDA saved to ./data/targets/NVDA.csv\n",
      "Data for AAPL saved to ./data/targets/AAPL.csv\n",
      "Data for AMGN saved to ./data/targets/AMGN.csv\n",
      "Data for CSCO saved to ./data/targets/CSCO.csv\n",
      "Data for INTC saved to ./data/targets/INTC.csv\n",
      "Data for MSFT saved to ./data/targets/MSFT.csv\n",
      "Data for HON saved to ./data/targets/HON.csv\n",
      "Data for WBA saved to ./data/targets/WBA.csv\n",
      "Data for AXP saved to ./data/targets/AXP.csv\n",
      "Data for BA saved to ./data/targets/BA.csv\n",
      "Data for CAT saved to ./data/targets/CAT.csv\n",
      "Data for CRM saved to ./data/targets/CRM.csv\n",
      "Data for CVX saved to ./data/targets/CVX.csv\n",
      "Data for DIS saved to ./data/targets/DIS.csv\n",
      "Data for DOW saved to ./data/targets/DOW.csv\n",
      "Data for GS saved to ./data/targets/GS.csv\n",
      "Data for HD saved to ./data/targets/HD.csv\n",
      "Data for IBM saved to ./data/targets/IBM.csv\n",
      "Data for JNJ saved to ./data/targets/JNJ.csv\n",
      "Data for JPM saved to ./data/targets/JPM.csv\n",
      "Data for KO saved to ./data/targets/KO.csv\n",
      "Data for MCD saved to ./data/targets/MCD.csv\n",
      "Data for MMM saved to ./data/targets/MMM.csv\n",
      "Data for MRK saved to ./data/targets/MRK.csv\n",
      "Data for NKE saved to ./data/targets/NKE.csv\n",
      "Data for PG saved to ./data/targets/PG.csv\n",
      "Data for TRV saved to ./data/targets/TRV.csv\n",
      "Data for UNH saved to ./data/targets/UNH.csv\n",
      "Data for V saved to ./data/targets/V.csv\n",
      "Data for VZ saved to ./data/targets/VZ.csv\n",
      "Data for WMT saved to ./data/targets/WMT.csv\n"
     ]
    }
   ],
   "source": [
    "for symbol in targets:\n",
    "    get_and_save_symbol_data(symbol, start_date, end_date, targets_path)"
   ]
  }
 ],
 "metadata": {
  "kernelspec": {
   "display_name": "Python 3 (ipykernel)",
   "language": "python",
   "name": "python3"
  },
  "language_info": {
   "codemirror_mode": {
    "name": "ipython",
    "version": 3
   },
   "file_extension": ".py",
   "mimetype": "text/x-python",
   "name": "python",
   "nbconvert_exporter": "python",
   "pygments_lexer": "ipython3",
   "version": "3.8.12"
  }
 },
 "nbformat": 4,
 "nbformat_minor": 4
}
